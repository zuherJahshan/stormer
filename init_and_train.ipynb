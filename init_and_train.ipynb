{
 "cells": [
  {
   "cell_type": "code",
   "execution_count": null,
   "metadata": {},
   "outputs": [],
   "source": [
    "import configuration\n",
    "import tensorflow as tf\n",
    "import utils\n",
    "import os\n",
    "\n",
    "from dataset import get_datasets\n",
    "from gated_stormer import Stormer"
   ]
  },
  {
   "cell_type": "code",
   "execution_count": null,
   "metadata": {},
   "outputs": [],
   "source": [
    "# count all the files inside \"data/speech_commands_v0.02\" directory\n",
    "cnt = 0\n",
    "for root, dirs, files in os.walk(\"data/speech-commands-v2\"):\n",
    "    for file in files:\n",
    "        if file.endswith(\".wav\"):\n",
    "            cnt += 1\n",
    "\n",
    "print(cnt)"
   ]
  },
  {
   "cell_type": "code",
   "execution_count": null,
   "metadata": {},
   "outputs": [],
   "source": [
    "# An example to how to initailize the parameters in case you don't have no model\n",
    "\n",
    "version = 2\n",
    "num_classes = 36 if version == 2 else 31 #### should change\n",
    "dataset_type = \"mel\"\n",
    "frame_length = 256\n",
    "frame_step = 128\n",
    "mel_bands=40\n",
    "num_coefficients=13\n",
    "max_shift_in_ms=100\n",
    "\n",
    "learning_rate = 0.001\n",
    "weight_decay = 0.005\n",
    "batch_size = 64\n",
    "num_epochs = 10000  # For real training, use num_epochs=100. 10 is a test value\n",
    "\n",
    "num_heads = 4\n",
    "num_repeats = 2\n",
    "num_state_cells = [10, 10, 6, 4]\n",
    "input_seq_size = 31\n",
    "projection_dim = 32\n",
    "inner_ff_dim = 2 * projection_dim\n",
    "dropout = 0.1\n",
    "probability_of_noise = 0.8\n",
    "\n",
    "hps = {\n",
    "    \"version\": version,\n",
    "    \"num_classes\": num_classes,\n",
    "    \"dataset_type\": dataset_type,\n",
    "    \"frame_length\": frame_length,\n",
    "    \"frame_step\": frame_step,\n",
    "    \"mel_bands\": mel_bands,\n",
    "    \"num_coefficients\": num_coefficients,\n",
    "    \"max_shift_in_ms\": max_shift_in_ms,\n",
    "    \"learning_rate\": learning_rate,\n",
    "    \"weight_decay\": weight_decay,\n",
    "    \"batch_size\": batch_size,\n",
    "    \"num_epochs\": num_epochs,\n",
    "    \"num_heads\": num_heads,\n",
    "    \"num_repeats\": num_repeats,\n",
    "    \"num_state_cells\": num_state_cells,\n",
    "    \"input_seq_size\": input_seq_size,\n",
    "    \"projection_dim\": projection_dim,\n",
    "    \"inner_ff_dim\": inner_ff_dim,\n",
    "    \"dropout\": dropout,\n",
    "    \"probability_of_noise\": probability_of_noise,\n",
    "}\n",
    "model_name = utils.get_model_name(**hps)\n",
    "model_name = \"gated_\" + model_name\n",
    "\n",
    "utils.save_hps(model_name, hps)\n",
    "model_path = utils.get_model_path(model_name)"
   ]
  },
  {
   "cell_type": "code",
   "execution_count": null,
   "metadata": {},
   "outputs": [],
   "source": [
    "stormer = Stormer(\n",
    "    **hps\n",
    ")"
   ]
  },
  {
   "cell_type": "code",
   "execution_count": null,
   "metadata": {},
   "outputs": [],
   "source": [
    "## load the datasets\n",
    "train, valid, test = get_datasets(\n",
    "    **hps\n",
    ")"
   ]
  },
  {
   "cell_type": "code",
   "execution_count": null,
   "metadata": {},
   "outputs": [],
   "source": [
    "for example, label in train.take(1):\n",
    "    stormer(example, training=False)"
   ]
  },
  {
   "cell_type": "code",
   "execution_count": null,
   "metadata": {},
   "outputs": [],
   "source": [
    "results_filename = f'data/results/{model_name}.csv'\n",
    "\n",
    "metrics=[\"accuracy\"]\n",
    "\n",
    "stormer.compile(\n",
    "    optimizer=tf.keras.optimizers.AdamW(learning_rate),\n",
    "    loss=\"categorical_crossentropy\",\n",
    "    metrics=metrics,\n",
    ")\n",
    "\n",
    "model_checkpoint_callback = tf.keras.callbacks.ModelCheckpoint(\n",
    "    filepath=model_path,\n",
    "    save_weights_only=True,\n",
    "    save_freq=\"epoch\",\n",
    "    verbose=0,\n",
    ")\n",
    "\n",
    "state_transformer_history = stormer.fit(\n",
    "    train,\n",
    "    validation_data=valid,\n",
    "    epochs=num_epochs,\n",
    "    callbacks=[\n",
    "        model_checkpoint_callback,\n",
    "        utils.MetricsLogger(\n",
    "            results_filename,\n",
    "        )\n",
    "    ],\n",
    ")"
   ]
  },
  {
   "cell_type": "code",
   "execution_count": null,
   "metadata": {},
   "outputs": [],
   "source": [
    "stormer.save_model(\n",
    "    model_path,\n",
    "    save_format=\"tf\",\n",
    "    options=None,\n",
    "    save_traces=True,\n",
    ")"
   ]
  },
  {
   "cell_type": "code",
   "execution_count": null,
   "metadata": {},
   "outputs": [],
   "source": [
    "stormer.summary()"
   ]
  },
  {
   "cell_type": "code",
   "execution_count": null,
   "metadata": {},
   "outputs": [],
   "source": [
    "stormer.save_weights(model_path)"
   ]
  },
  {
   "cell_type": "code",
   "execution_count": null,
   "metadata": {},
   "outputs": [],
   "source": [
    "stormer.load_weights(model_path)"
   ]
  },
  {
   "cell_type": "code",
   "execution_count": null,
   "metadata": {},
   "outputs": [],
   "source": [
    "stormer.summary()"
   ]
  },
  {
   "cell_type": "code",
   "execution_count": null,
   "metadata": {},
   "outputs": [],
   "source": [
    "stormer."
   ]
  }
 ],
 "metadata": {
  "kernelspec": {
   "display_name": "covit",
   "language": "python",
   "name": "python3"
  },
  "language_info": {
   "codemirror_mode": {
    "name": "ipython",
    "version": 3
   },
   "file_extension": ".py",
   "mimetype": "text/x-python",
   "name": "python",
   "nbconvert_exporter": "python",
   "pygments_lexer": "ipython3",
   "version": "3.11.8"
  },
  "orig_nbformat": 4
 },
 "nbformat": 4,
 "nbformat_minor": 2
}
