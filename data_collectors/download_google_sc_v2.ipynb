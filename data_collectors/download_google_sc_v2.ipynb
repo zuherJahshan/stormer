{
 "cells": [
  {
   "cell_type": "code",
   "execution_count": 1,
   "metadata": {},
   "outputs": [
    {
     "name": "stderr",
     "output_type": "stream",
     "text": [
      "2024-04-22 15:20:21.037772: I tensorflow/core/util/port.cc:110] oneDNN custom operations are on. You may see slightly different numerical results due to floating-point round-off errors from different computation orders. To turn them off, set the environment variable `TF_ENABLE_ONEDNN_OPTS=0`.\n",
      "2024-04-22 15:20:21.063031: I tensorflow/core/platform/cpu_feature_guard.cc:182] This TensorFlow binary is optimized to use available CPU instructions in performance-critical operations.\n",
      "To enable the following instructions: AVX2 AVX_VNNI FMA, in other operations, rebuild TensorFlow with the appropriate compiler flags.\n",
      "2024-04-22 15:20:21.541507: W tensorflow/compiler/tf2tensorrt/utils/py_utils.cc:38] TF-TRT Warning: Could not find TensorRT\n"
     ]
    }
   ],
   "source": [
    "import glob\n",
    "import os\n",
    "import sys\n",
    "\n",
    "orig_dir = os.getcwd()\n",
    "\n",
    "os.chdir(\"../\")\n",
    "sys.path.append(os.getcwd())\n",
    "import speech_commands_v2_ds as sc\n",
    "\n",
    "os.chdir(orig_dir)"
   ]
  },
  {
   "cell_type": "code",
   "execution_count": 2,
   "metadata": {},
   "outputs": [],
   "source": [
    "datapath = \"../data/speech_commands_v2\"\n",
    "\n",
    "# Download the UrbanSound8K dataset\n",
    "if not os.path.exists(datapath):\n",
    "    os.makedirs(datapath)\n",
    "    if not os.path.exists(datapath + \"_raw\"):\n",
    "        os.makedirs(datapath + \"_raw\")\n",
    "        # !wget \"http://download.tensorflow.org/data/speech_commands_v0.02.tar.gz\"\n",
    "        !tar -xvf speech_commands_v0.02.tar.gz -C {datapath}_raw\n",
    "\n",
    "    cnt = 0\n",
    "    sum = len(glob.glob(f\"{datapath}_raw/*/*\"))\n",
    "    for file in glob.glob(f\"{datapath}_raw/*/*\"):\n",
    "        os.makedirs(\"/\".join(file.split(\"/\")[:-1]).replace(datapath + \"_raw\", datapath), exist_ok=True)\n",
    "        fixed_file = f\"{datapath}/{file.split('/')[-2]}/{file.split('/')[-1]}\"\n",
    "        os.system(f\"ffmpeg -i {file} -acodec pcm_s16le -ar 16000 {fixed_file} > /dev/null 2>&1\")\n",
    "        cnt += 1\n",
    "        if cnt % 100 == 0:\n",
    "            print(f\"Processed {cnt/sum} files\")\n",
    "    !rm -rf {datapath}_raw\n",
    "    !rm -rf speech_commands_v0.02.tar.gz"
   ]
  },
  {
   "cell_type": "code",
   "execution_count": null,
   "metadata": {},
   "outputs": [],
   "source": []
  },
  {
   "cell_type": "code",
   "execution_count": null,
   "metadata": {},
   "outputs": [],
   "source": []
  },
  {
   "cell_type": "code",
   "execution_count": null,
   "metadata": {},
   "outputs": [],
   "source": [
    "ds_dict = get_datasets(datapath)\n",
    "train_ds = ds_dict[\"train\"]\n",
    "valid_ds = ds_dict[\"valid\"]\n",
    "test_ds = ds_dict[\"test\"]"
   ]
  },
  {
   "cell_type": "code",
   "execution_count": null,
   "metadata": {},
   "outputs": [],
   "source": [
    "# build the most simple  neural network to train on this data\n",
    "from tensorflow.keras import layers\n",
    "\n",
    "model = tf.keras.Sequential([\n",
    "    layers.Input(shape=(16000,)),\n",
    "    layers.Reshape((16000, 1)),\n",
    "    layers.Conv1D(32, 3, activation='relu'),\n",
    "    layers.MaxPooling1D(2),\n",
    "    layers.Conv1D(64, 3, activation='relu'),\n",
    "    layers.MaxPooling1D(2),\n",
    "    layers.Conv1D(128, 3, activation='relu'),\n",
    "    layers.MaxPooling1D(2),\n",
    "    layers.Flatten(),\n",
    "    layers.Dense(64, activation='relu'),\n",
    "    layers.Dense(36, activation='softmax')\n",
    "])\n",
    "\n",
    "model.compile(\n",
    "    optimizer='adam',\n",
    "    loss='categorical_crossentropy',\n",
    "    metrics=['accuracy']\n",
    ")\n",
    "\n",
    "model.summary()\n",
    "\n",
    "model.fit(train_ds.batch(128), epochs=10)"
   ]
  },
  {
   "cell_type": "code",
   "execution_count": null,
   "metadata": {},
   "outputs": [],
   "source": [
    "N = 41\n",
    "D = 32\n",
    "H = 4\n",
    "layers = 2\n",
    "\n",
    "layers*3*(3*N*D*H + (N**2)*D*H + 4*N*D**2)"
   ]
  },
  {
   "cell_type": "code",
   "execution_count": null,
   "metadata": {},
   "outputs": [],
   "source": [
    "# print the size of all files in the datapath\n",
    "import os\n",
    "import numpy as np\n",
    "\n",
    "def get_size_of_files(datapath):\n",
    "    sizes = []\n",
    "    for root, dirs, files in os.walk(datapath):\n",
    "        for file in files:\n",
    "            size = os.path.getsize(os.path.join(root, file))\n",
    "            sizes.append(size)\n",
    "            if size == 0:\n",
    "                print(os.path.join(root, file))\n",
    "    return np.array(sizes)\n",
    "\n",
    "sizes = get_size_of_files(datapath)"
   ]
  },
  {
   "cell_type": "code",
   "execution_count": null,
   "metadata": {},
   "outputs": [],
   "source": []
  },
  {
   "cell_type": "code",
   "execution_count": null,
   "metadata": {},
   "outputs": [],
   "source": []
  }
 ],
 "metadata": {
  "kernelspec": {
   "display_name": "kws",
   "language": "python",
   "name": "python3"
  },
  "language_info": {
   "codemirror_mode": {
    "name": "ipython",
    "version": 3
   },
   "file_extension": ".py",
   "mimetype": "text/x-python",
   "name": "python",
   "nbconvert_exporter": "python",
   "pygments_lexer": "ipython3",
   "version": "3.9.18"
  }
 },
 "nbformat": 4,
 "nbformat_minor": 2
}
