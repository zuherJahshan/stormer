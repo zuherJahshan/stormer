{
 "cells": [
  {
   "cell_type": "code",
   "execution_count": null,
   "metadata": {},
   "outputs": [],
   "source": [
    "import glob\n",
    "import os"
   ]
  },
  {
   "cell_type": "code",
   "execution_count": null,
   "metadata": {},
   "outputs": [],
   "source": [
    "# owner = \"chrisfilo\"\n",
    "# dataset = \"urbansound8k\"\n",
    "\n",
    "owner = \"sylkaladin\"\n",
    "dataset = \"speech-commands-v2\"\n",
    "\n",
    "flattened_files = False"
   ]
  },
  {
   "cell_type": "code",
   "execution_count": null,
   "metadata": {},
   "outputs": [],
   "source": [
    "datapath = f\"../data/{dataset}\"\n",
    "raw_datapath = f\"{datapath}_raw\""
   ]
  },
  {
   "cell_type": "code",
   "execution_count": null,
   "metadata": {},
   "outputs": [],
   "source": [
    "import glob\n",
    "import os\n",
    "\n",
    "# Download the UrbanSound8K dataset\n",
    "if not os.path.exists(datapath):\n",
    "    os.makedirs(datapath)\n",
    "    !kaggle datasets download {owner}/{dataset}\n",
    "    !mkdir -p {datapath}\n",
    "    !mkdir -p {raw_datapath}\n",
    "    !mv {dataset}.zip {raw_datapath}\n",
    "    !unzip {raw_datapath}/{dataset} -d {raw_datapath}\n",
    "    !rm {raw_datapath}/{dataset}.zip\n",
    "\n",
    "    cnt = 0\n",
    "    sum = len(glob.glob(f\"{raw_datapath}/*/*\"))\n",
    "    for file in glob.glob(f\"{raw_datapath}/*/*\"):\n",
    "        fixed_file = datapath + \"/\" + file.split(\"/\")[-1] if flattened_files else file.replace(raw_datapath, datapath)\n",
    "        os.makedirs(os.path.dirname(fixed_file), exist_ok=True)\n",
    "        os.system(f\"ffmpeg -i {file} -acodec pcm_s16le -ar 16000 {fixed_file} > /dev/null 2>&1\")\n",
    "        cnt += 1\n",
    "        if cnt % 100 == 0:\n",
    "            print(f\"Processed {cnt/sum} files\")\n",
    "    !rm -rf {raw_datapath}"
   ]
  },
  {
   "cell_type": "code",
   "execution_count": null,
   "metadata": {},
   "outputs": [],
   "source": []
  }
 ],
 "metadata": {
  "kernelspec": {
   "display_name": "kws",
   "language": "python",
   "name": "python3"
  },
  "language_info": {
   "codemirror_mode": {
    "name": "ipython",
    "version": 3
   },
   "file_extension": ".py",
   "mimetype": "text/x-python",
   "name": "python",
   "nbconvert_exporter": "python",
   "pygments_lexer": "ipython3",
   "version": "3.11.8"
  }
 },
 "nbformat": 4,
 "nbformat_minor": 2
}
