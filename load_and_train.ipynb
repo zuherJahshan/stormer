{
 "cells": [
  {
   "cell_type": "code",
   "execution_count": null,
   "metadata": {},
   "outputs": [],
   "source": [
    "import configuration\n",
    "import tensorflow as tf\n",
    "import utils\n",
    "import os\n",
    "import glob\n",
    "\n",
    "from dataset import get_datasets\n",
    "from gated_stormer import Stormer"
   ]
  },
  {
   "cell_type": "code",
   "execution_count": null,
   "metadata": {},
   "outputs": [],
   "source": [
    "# print model names\n",
    "\n",
    "print_model_table = lambda model_list: utils.print_enumerated_list(model_list, \"Model\")\n",
    "\n",
    "models_names = [path.split(\"/\")[-1] for path in glob.glob(\"models/*stormer*\")]\n",
    "models_names.sort()\n",
    "print_model_table(models_names)\n",
    "model_name = models_names[int(input(\"Choose model: \"))]"
   ]
  },
  {
   "cell_type": "code",
   "execution_count": null,
   "metadata": {},
   "outputs": [],
   "source": [
    "hps = utils.load_hps(model_name)\n",
    "stormer = Stormer(**hps)"
   ]
  },
  {
   "cell_type": "code",
   "execution_count": null,
   "metadata": {},
   "outputs": [],
   "source": [
    "## load the datasets\n",
    "train, valid, test = get_datasets(\n",
    "    **hps\n",
    ")"
   ]
  },
  {
   "cell_type": "code",
   "execution_count": null,
   "metadata": {},
   "outputs": [],
   "source": [
    "for example,label in train.take(1):\n",
    "    stormer(example)"
   ]
  },
  {
   "cell_type": "code",
   "execution_count": null,
   "metadata": {},
   "outputs": [],
   "source": [
    "# check if the model containing directory exists\n",
    "model_path = utils.get_model_path(model_name)\n",
    "print(\"Model path:\", model_path)\n",
    "load_weights = os.path.exists(os.path.dirname(model_path))\n",
    "if load_weights:\n",
    "    stormer.load_weights(model_path)"
   ]
  },
  {
   "cell_type": "code",
   "execution_count": null,
   "metadata": {},
   "outputs": [],
   "source": [
    "results_filename = f'data/results/{model_name}.csv'\n",
    "\n",
    "metrics=[\"accuracy\"]\n",
    "\n",
    "stormer.compile(\n",
    "    optimizer=tf.keras.optimizers.AdamW(hps[\"learning_rate\"]),\n",
    "    loss=\"categorical_crossentropy\",\n",
    "    metrics=metrics,\n",
    ")\n",
    "\n",
    "model_checkpoint_callback = tf.keras.callbacks.ModelCheckpoint(\n",
    "    filepath=model_path,\n",
    "    save_weights_only=True,\n",
    "    save_freq=\"epoch\",\n",
    "    verbose=0,\n",
    ")\n",
    "\n",
    "state_transformer_history = stormer.fit(\n",
    "    train,\n",
    "    validation_data=valid,\n",
    "    epochs=hps[\"num_epochs\"],\n",
    "    callbacks=[\n",
    "        model_checkpoint_callback,\n",
    "        utils.MetricsLogger(\n",
    "            results_filename,\n",
    "        )\n",
    "    ],\n",
    ")"
   ]
  },
  {
   "cell_type": "code",
   "execution_count": null,
   "metadata": {},
   "outputs": [],
   "source": []
  }
 ],
 "metadata": {
  "kernelspec": {
   "display_name": "covit",
   "language": "python",
   "name": "python3"
  },
  "language_info": {
   "codemirror_mode": {
    "name": "ipython",
    "version": 3
   },
   "file_extension": ".py",
   "mimetype": "text/x-python",
   "name": "python",
   "nbconvert_exporter": "python",
   "pygments_lexer": "ipython3",
   "version": "3.11.8"
  },
  "orig_nbformat": 4
 },
 "nbformat": 4,
 "nbformat_minor": 2
}
