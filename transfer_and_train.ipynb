{
 "cells": [
  {
   "cell_type": "code",
   "execution_count": null,
   "metadata": {},
   "outputs": [],
   "source": [
    "import tensorflow as tf\n",
    "import utils\n",
    "import os\n",
    "import glob\n",
    "\n",
    "from dataset import get_datasets, get_dataset_shape, labels_v1, labels_v2\n",
    "from stormer import Stormer"
   ]
  },
  {
   "cell_type": "code",
   "execution_count": null,
   "metadata": {},
   "outputs": [],
   "source": [
    "## Example of how you can build a new model and transfer learn from an old model\n",
    "import copy\n",
    "\n",
    "print_model_table = lambda model_list: utils.print_enumerated_list(model_list, \"Model\")\n",
    "\n",
    "models_names = [path.split(\"/\")[-1] for path in glob.glob(\"models/stormer*\")]\n",
    "models_names.sort()\n",
    "print_model_table(models_names)\n",
    "\n",
    "old_model_name = input(\"Enter the Index of the model you want to transfer learn from: \")"
   ]
  },
  {
   "cell_type": "code",
   "execution_count": null,
   "metadata": {},
   "outputs": [],
   "source": [
    "old_hps = utils.load_hps(old_model_name)\n",
    "new_hps = copy.deepcopy(old_hps)\n",
    "new_num_state_cells = [1]\n",
    "new_hps[\"num_state_cells\"] += new_num_state_cells\n",
    "new_hps[\"num_repeats\"] += len(new_num_state_cells)\n",
    "new_model_name = utils.get_model_name(**new_hps)\n",
    "\n",
    "utils.save_hps(new_model_name, new_hps)"
   ]
  },
  {
   "cell_type": "code",
   "execution_count": null,
   "metadata": {},
   "outputs": [],
   "source": [
    "stormer = Stormer(**new_hps)"
   ]
  },
  {
   "cell_type": "code",
   "execution_count": null,
   "metadata": {},
   "outputs": [],
   "source": [
    "## load the datasets\n",
    "train, valid, test = get_datasets(**new_hps)"
   ]
  },
  {
   "cell_type": "code",
   "execution_count": null,
   "metadata": {},
   "outputs": [],
   "source": [
    "results_filename = f'data/results/{new_model_name}.csv'\n",
    "\n",
    "metrics=[\"accuracy\"]\n",
    "\n",
    "stormer.compile(\n",
    "    optimizer=tf.keras.optimizers.AdamW(new_hps[\"learning_rate\"]),\n",
    "    loss=\"categorical_crossentropy\",\n",
    "    metrics=metrics,\n",
    ")\n",
    "\n",
    "model_checkpoint_callback = tf.keras.callbacks.ModelCheckpoint(\n",
    "    filepath=utils.get_model_path[new_model_name],\n",
    "    save_weights_only=True,\n",
    "    save_freq=\"epoch\",\n",
    "    verbose=0,\n",
    ")\n",
    "\n",
    "state_transformer_history = stormer.fit(\n",
    "    train,\n",
    "    validation_data=valid,\n",
    "    epochs=new_hps[\"num_epochs\"],\n",
    "    callbacks=[\n",
    "        model_checkpoint_callback,\n",
    "        utils.MetricsLogger(\n",
    "            results_filename,\n",
    "        )\n",
    "    ],\n",
    ")"
   ]
  },
  {
   "cell_type": "code",
   "execution_count": null,
   "metadata": {},
   "outputs": [],
   "source": []
  }
 ],
 "metadata": {
  "kernelspec": {
   "display_name": "covit",
   "language": "python",
   "name": "python3"
  },
  "language_info": {
   "codemirror_mode": {
    "name": "ipython",
    "version": 3
   },
   "file_extension": ".py",
   "mimetype": "text/x-python",
   "name": "python",
   "nbconvert_exporter": "python",
   "pygments_lexer": "ipython3",
   "version": "3.9.18"
  },
  "orig_nbformat": 4
 },
 "nbformat": 4,
 "nbformat_minor": 2
}
