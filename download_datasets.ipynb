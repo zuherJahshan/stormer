{
 "cells": [
  {
   "cell_type": "code",
   "execution_count": null,
   "metadata": {},
   "outputs": [],
   "source": [
    "import tensorflow as tf\n",
    "import glob\n",
    "import tensorflow_io as tfio"
   ]
  },
  {
   "cell_type": "code",
   "execution_count": null,
   "metadata": {},
   "outputs": [],
   "source": [
    "import glob\n",
    "import os\n",
    "\n",
    "# Download the UrbanSound8K dataset\n",
    "if not os.path.exists(\"./data/urban_sound/\"):\n",
    "    os.makedirs(\"./data/urban_sound/\")\n",
    "    !kaggle datasets download chrisfilo/urbansound8k\n",
    "    !mkdir -p data/urban_sound_raw\n",
    "    !mv urbansound8k.zip data/urban_sound_raw/\n",
    "    !unzip data/urban_sound_raw/urbansound8k.zip -d data/urban_sound_raw/\n",
    "    !rm data/urban_sound_raw/\n",
    "\n",
    "    cnt = 0\n",
    "    sum = len(glob.glob(\"./data/urban_sound_raw/*/*\"))\n",
    "    for file in glob.glob(\"./data/urban_sound_raw/*/*\"):\n",
    "        fixed_file = \"./data/urban_sound/\" + file.split(\"/\")[-1]\n",
    "        os.system(f\"ffmpeg -i {file} -acodec pcm_s16le -ar 16000 {fixed_file} > /dev/null 2>&1\")\n",
    "        cnt += 1\n",
    "        if cnt % 100 == 0:\n",
    "            print(f\"Processed {cnt/sum} files\")\n",
    "    !rm -rf data/urban_sound_raw"
   ]
  },
  {
   "cell_type": "code",
   "execution_count": null,
   "metadata": {},
   "outputs": [],
   "source": [
    "sampling_rate = 44100\n",
    "def get_audio_from_wav_file(file):\n",
    "    audio, sample_rate = tf.audio.decode_wav(\n",
    "        tf.io.read_file(file),\n",
    "        desired_channels=1\n",
    "    )\n",
    "    return tf.squeeze(audio, axis=-1)\n",
    "\n",
    "def adjust_frequncy(audio, new_sampling_rate=16000, old_sampling_rate=44100):\n",
    "    audio = tf.cast(audio, tf.float32)\n",
    "    audio = tfio.audio.resample(\n",
    "        audio,\n",
    "        rate_in=old_sampling_rate,\n",
    "        rate_out=new_sampling_rate\n",
    "    )\n",
    "    return audio"
   ]
  },
  {
   "cell_type": "code",
   "execution_count": null,
   "metadata": {},
   "outputs": [],
   "source": [
    "def pad_and_align(audio, target_length=16000):\n",
    "    if tf.shape(audio)[0] > target_length:\n",
    "        starting_idx = tf.random.uniform(\n",
    "            shape=(),\n",
    "            minval=0,\n",
    "            maxval=tf.shape(audio)[0] - target_length,\n",
    "            dtype=tf.int32\n",
    "        )\n",
    "        audio = audio[starting_idx: starting_idx + target_length]\n",
    "    else:\n",
    "        audio = tf.concat([audio, tf.zeros(target_length - tf.shape(audio)[0], dtype=tf.float32)], axis=0)\n",
    "        # ensure the audio is in the correct shape\n",
    "        audio.set_shape((target_length,))\n",
    "    return audio"
   ]
  },
  {
   "cell_type": "code",
   "execution_count": null,
   "metadata": {},
   "outputs": [],
   "source": [
    "def get_background_noise_dataset(datapath, size):\n",
    "    noises = glob.glob(f\"{datapath}/*.wav\")\n",
    "    # If the size of noises is less than the required size, we will repeat the noises\n",
    "    new_noises = []\n",
    "    for i in range(size):\n",
    "        new_noises.append(noises[i % len(noises)])\n",
    "    files_ds = tf.data.Dataset.from_tensor_slices(new_noises)\n",
    "    audio_ds = files_ds.map(\n",
    "        get_audio_from_wav_file,\n",
    "        num_parallel_calls=tf.data.experimental.AUTOTUNE\n",
    "    )\n",
    "    adjusted_audio_ds = audio_ds.map(\n",
    "        lambda x: adjust_frequncy(x, 16000, 44100),\n",
    "        num_parallel_calls=tf.data.experimental.AUTOTUNE\n",
    "    )\n",
    "    fixed_length_audio_ds = adjusted_audio_ds.map(\n",
    "        lambda x: pad_and_align(x, 16000),\n",
    "        num_parallel_calls=tf.data.experimental.AUTOTUNE\n",
    "    )\n",
    "    return fixed_length_audio_ds.shuffle(1024)\n"
   ]
  },
  {
   "cell_type": "code",
   "execution_count": null,
   "metadata": {},
   "outputs": [],
   "source": [
    "noise_dataset = get_background_noise_dataset(\"data/urban_sound\", 100)"
   ]
  },
  {
   "cell_type": "code",
   "execution_count": null,
   "metadata": {},
   "outputs": [],
   "source": [
    "from dataset import get_datasets"
   ]
  },
  {
   "cell_type": "code",
   "execution_count": null,
   "metadata": {},
   "outputs": [],
   "source": [
    "train_ds, valid_ds, test_ds = get_datasets(batch_size=64)"
   ]
  },
  {
   "cell_type": "code",
   "execution_count": 4,
   "metadata": {},
   "outputs": [
    {
     "data": {
      "text/plain": [
       "<_PrefetchDataset element_spec=(TensorSpec(shape=(None, 124, 39), dtype=tf.float32, name=None), TensorSpec(shape=(None, 31), dtype=tf.float32, name=None))>"
      ]
     },
     "execution_count": 4,
     "metadata": {},
     "output_type": "execute_result"
    }
   ],
   "source": [
    "train_ds"
   ]
  },
  {
   "cell_type": "code",
   "execution_count": 3,
   "metadata": {},
   "outputs": [
    {
     "data": {
      "text/plain": [
       "6801408"
      ]
     },
     "execution_count": 3,
     "metadata": {},
     "output_type": "execute_result"
    }
   ],
   "source": [
    "N = 41\n",
    "D = 32\n",
    "H = 4\n",
    "layers = 2\n",
    "\n",
    "layers*3*(3*N*D*H + (N**2)*D*H + 4*N*D**2)"
   ]
  },
  {
   "cell_type": "code",
   "execution_count": null,
   "metadata": {},
   "outputs": [],
   "source": []
  }
 ],
 "metadata": {
  "kernelspec": {
   "display_name": "kws",
   "language": "python",
   "name": "python3"
  },
  "language_info": {
   "codemirror_mode": {
    "name": "ipython",
    "version": 3
   },
   "file_extension": ".py",
   "mimetype": "text/x-python",
   "name": "python",
   "nbconvert_exporter": "python",
   "pygments_lexer": "ipython3",
   "version": "3.9.18"
  }
 },
 "nbformat": 4,
 "nbformat_minor": 2
}
